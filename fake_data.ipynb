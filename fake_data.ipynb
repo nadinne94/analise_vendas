{
  "nbformat": 4,
  "nbformat_minor": 0,
  "metadata": {
    "colab": {
      "provenance": [],
      "authorship_tag": "ABX9TyNpVcQjyP8na2fXjFMx0Mte",
      "include_colab_link": true
    },
    "kernelspec": {
      "name": "python3",
      "display_name": "Python 3"
    },
    "language_info": {
      "name": "python"
    }
  },
  "cells": [
    {
      "cell_type": "markdown",
      "metadata": {
        "id": "view-in-github",
        "colab_type": "text"
      },
      "source": [
        "<a href=\"https://colab.research.google.com/github/nadinne94/analise_vendas/blob/main/fake_data.ipynb\" target=\"_parent\"><img src=\"https://colab.research.google.com/assets/colab-badge.svg\" alt=\"Open In Colab\"/></a>"
      ]
    },
    {
      "cell_type": "code",
      "execution_count": 72,
      "metadata": {
        "colab": {
          "base_uri": "https://localhost:8080/"
        },
        "id": "XAc3I7eio-cq",
        "outputId": "9ca99df9-7e9e-49c2-bfd6-7e4ced45334d"
      },
      "outputs": [
        {
          "output_type": "stream",
          "name": "stdout",
          "text": [
            "Requirement already satisfied: Faker in /usr/local/lib/python3.10/dist-packages (20.1.0)\n",
            "Requirement already satisfied: python-dateutil>=2.4 in /usr/local/lib/python3.10/dist-packages (from Faker) (2.8.2)\n",
            "Requirement already satisfied: six>=1.5 in /usr/local/lib/python3.10/dist-packages (from python-dateutil>=2.4->Faker) (1.16.0)\n"
          ]
        }
      ],
      "source": [
        "!pip install Faker\n",
        "\n",
        "from faker import Faker\n",
        "from datetime import datetime, timedelta\n",
        "import random\n",
        "import csv\n",
        "\n",
        "fake = Faker()\n"
      ]
    },
    {
      "cell_type": "code",
      "source": [
        "def gerar_fake_cliente():\n",
        "\n",
        "  idade = fake.random_int(min=18, max=90)\n",
        "  if idade > 65 and random.random() > 0.75:\n",
        "    idade = random.randint(18,65)\n",
        "\n",
        "  genero = fake.random_element(elements=('M','F','F'))\n",
        "  localizacao = fake.random_element(elements=('Belo Horizonte', 'Rio de Janeiro', 'São Paulo', 'Salvador', 'Curitiba'))\n",
        "\n",
        "  return idade, genero, localizacao\n",
        "\n",
        "def gerar_fake_produto():\n",
        "\n",
        "  tipo_produto = fake.random_element(elements=('Roupas', 'Calçados', 'Acessórios'))\n",
        "  categoria_produto = fake.random_element(elements=('Casual', 'Formal', 'Esportivo'))\n",
        "  tamanho_produto = fake.random_element(elements=('P','M','G'))\n",
        "  preco_produto = fake.random_int(min=49, max=300, step=3)\n",
        "\n",
        "  return tipo_produto, categoria_produto, tamanho_produto, preco_produto\n",
        "\n",
        "def gerar_fake_pedido():\n",
        "\n",
        "   id_cliente = fake.random_int(min=1, max=3000)\n",
        "   id_produto = fake.random_int(min=1, max =500)\n",
        "   date_pedido = fake.date_between_dates(date_start=datetime(2023, 1, 1), date_end=datetime(2023, 6, 30))\n",
        "   quantidade = random.randint(1, 10)\n",
        "   if quantidade and random.random() > 0.80:\n",
        "    quantidade = random.randint(1,5)\n",
        "\n",
        "   return id_cliente, id_produto, quantidade, date_pedido.strftime('%d-%m-%Y')\n",
        "\n"
      ],
      "metadata": {
        "id": "OYQdW6nfstlZ"
      },
      "execution_count": 73,
      "outputs": []
    },
    {
      "cell_type": "markdown",
      "source": [],
      "metadata": {
        "id": "VHtXYHrRb02L"
      }
    },
    {
      "cell_type": "code",
      "source": [
        "with open('dados_clientes.csv','w',newline='') as csvfile_cliente:\n",
        "  writer_cliente = csv.writer(csvfile_cliente)\n",
        "  writer_cliente.writerow(['idade', 'genero', 'localizacao'])\n",
        "  for _ in range(3000):\n",
        "    clientes = gerar_fake_cliente()\n",
        "    writer_cliente.writerow(clientes)\n",
        "\n",
        "print(\"Arquivo 'dados_cliente.csv' gerado com sucesso.\")\n"
      ],
      "metadata": {
        "colab": {
          "base_uri": "https://localhost:8080/"
        },
        "id": "VSuT6Tre-Xx2",
        "outputId": "8ca558e6-8b43-4ba8-e130-5f7cb00c9673"
      },
      "execution_count": 74,
      "outputs": [
        {
          "output_type": "stream",
          "name": "stdout",
          "text": [
            "Arquivo 'dados_cliente.csv' gerado com sucesso.\n"
          ]
        }
      ]
    },
    {
      "cell_type": "code",
      "source": [
        "with open('dados_produtos.csv','w',newline='') as csvfile_produto:\n",
        "  writer_produto = csv.writer(csvfile_produto)\n",
        "  writer_produto.writerow(['tipo_produto', 'categoria_produto', 'tamanho_produto', 'preco_produto'])\n",
        "  for _ in range(500):\n",
        "    produtos = gerar_fake_produto()\n",
        "    writer_produto.writerow(produtos)\n",
        "\n",
        "print(\"Arquivo 'dados_produtos.csv' gerado com sucesso.\")\n"
      ],
      "metadata": {
        "colab": {
          "base_uri": "https://localhost:8080/"
        },
        "id": "LDP0QLUauBdV",
        "outputId": "387ad329-cd46-4307-8e8e-2e3a7dc52135"
      },
      "execution_count": 75,
      "outputs": [
        {
          "output_type": "stream",
          "name": "stdout",
          "text": [
            "Arquivo 'dados_produtos.csv' gerado com sucesso.\n"
          ]
        }
      ]
    },
    {
      "cell_type": "code",
      "source": [
        "with open('dados_pedidos.csv','w',newline='') as csvfile_pedidos:\n",
        "  writer_pedido = csv.writer(csvfile_pedidos)\n",
        "  writer_pedido.writerow(['tipo_produto', 'categoria_produto', 'tamanho_produto', 'preco_produto'])\n",
        "  for _ in range(10000):\n",
        "    pedidos = gerar_fake_pedido()\n",
        "    writer_pedido.writerow(pedidos)\n",
        "\n",
        "print(\"Arquivo 'dados_pedidos.csv' gerado com sucesso.\")\n",
        ""
      ],
      "metadata": {
        "colab": {
          "base_uri": "https://localhost:8080/"
        },
        "id": "qWpCjx-x-E0f",
        "outputId": "fa637352-6563-4665-fd31-0392af0e6d4a"
      },
      "execution_count": 76,
      "outputs": [
        {
          "output_type": "stream",
          "name": "stdout",
          "text": [
            "Arquivo 'dados_pedidos.csv' gerado com sucesso.\n"
          ]
        }
      ]
    }
  ]
}