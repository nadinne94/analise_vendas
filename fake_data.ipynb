{
  "nbformat": 4,
  "nbformat_minor": 0,
  "metadata": {
    "colab": {
      "provenance": [],
      "authorship_tag": "ABX9TyP0CG+xGUb8++S1r+QGrcRO",
      "include_colab_link": true
    },
    "kernelspec": {
      "name": "python3",
      "display_name": "Python 3"
    },
    "language_info": {
      "name": "python"
    }
  },
  "cells": [
    {
      "cell_type": "markdown",
      "metadata": {
        "id": "view-in-github",
        "colab_type": "text"
      },
      "source": [
        "<a href=\"https://colab.research.google.com/github/nadinne94/analise_vendas/blob/main/fake_data.ipynb\" target=\"_parent\"><img src=\"https://colab.research.google.com/assets/colab-badge.svg\" alt=\"Open In Colab\"/></a>"
      ]
    },
    {
      "cell_type": "code",
      "execution_count": null,
      "metadata": {
        "id": "XAc3I7eio-cq"
      },
      "outputs": [],
      "source": [
        "!pip install Faker\n",
        "\n",
        "from faker import Faker\n",
        "from datetime import datetime, timedelta\n",
        "import random\n",
        "import csv\n",
        "\n",
        "fake = Faker()"
      ]
    },
    {
      "cell_type": "code",
      "source": [
        "id_cliente = 1\n",
        "id_produto = 1"
      ],
      "metadata": {
        "id": "QIVVf-h5mV85"
      },
      "execution_count": null,
      "outputs": []
    },
    {
      "cell_type": "code",
      "source": [
        "def gerar_fake_cliente():\n",
        "  global id_cliente\n",
        "  id_cliente_atual = id_cliente\n",
        "  id_cliente += 1\n",
        "\n",
        "  nome = fake.name()\n",
        "  telefone = fake.phone_number()\n",
        "  idade = fake.random_int(min=18, max=90)\n",
        "  if idade > 65 and random.random() > 0.75:\n",
        "    idade = random.randint(18,65)\n",
        "\n",
        "  genero = fake.random_element(elements=('M','F','F'))\n",
        "  localizacao = fake.random_element(elements=('Belo Horizonte', 'Rio de Janeiro', 'São Paulo', 'Salvador', 'Curitiba'))\n",
        "\n",
        "  return id_cliente_atual, nome, idade, genero, telefone, localizacao\n",
        "\n",
        "# for _ in range(10):\n",
        "#   cliente = gerar_fake_cliente()\n",
        "#   print(cliente)\n",
        "\n"
      ],
      "metadata": {
        "id": "OYQdW6nfstlZ"
      },
      "execution_count": null,
      "outputs": []
    },
    {
      "cell_type": "code",
      "source": [
        "def gerar_fake_produto():\n",
        "  global id_produto\n",
        "  id_produto_atual = id_produto\n",
        "  id_produto += 1\n",
        "\n",
        "  tipo_produto = fake.random_element(elements=('Roupas', 'Calçados', 'Acessórios'))\n",
        "  categoria_produto = fake.random_element(elements=('Casual', 'Formal', 'Esportivo'))\n",
        "  tamanho_produto = fake.random_element(elements=('P','M','G'))\n",
        "  preco_produto = fake.random_int(min=49, max=300, step=3)\n",
        "\n",
        "  return id_produto_atual, tipo_produto, categoria_produto, tamanho_produto, preco_produto\n",
        "\n",
        "# for _ in range(10):\n",
        "#   produto=gerar_fake_produto()\n",
        "#   print(produto)\n",
        "\n"
      ],
      "metadata": {
        "id": "10EY14XhiW5e"
      },
      "execution_count": null,
      "outputs": []
    },
    {
      "cell_type": "code",
      "source": [
        "def gerar_fake_venda(id_cliente, id_produto):\n",
        "\n",
        "   date_venda = fake.date_between_dates(date_start=datetime(2023, 1, 1), date_end=datetime(2023, 6, 30))\n",
        "   quantidade = random.randint(1, 10)\n",
        "   if quantidade and random.random() > 0.80:\n",
        "    quantidade = random.randint(1,5)\n",
        "\n",
        "   return id_cliente, id_produto, quantidade, date_venda.strftime('%d-%m-%Y')\n",
        "\n",
        "\n",
        "# for _ in range(10):\n",
        "#   id_cliente_atual = fake.random_int(min=1, max=100)\n",
        "#   id_produto_atual = fake.random_int(min=1, max=50)\n",
        "#   venda = gerar_fake_venda(id_cliente_atual, id_produto_atual)\n",
        "#   print(venda)"
      ],
      "metadata": {
        "id": "qWRT8355j6ub"
      },
      "execution_count": null,
      "outputs": []
    },
    {
      "cell_type": "code",
      "source": [
        "with open('dados_clientes.csv','w',newline='') as csvfile_cliente:\n",
        "  writer_cliente = csv.writer(csvfile_cliente)\n",
        "  writer_cliente.writerow(['id_cliente', 'nome', 'idade', 'genero', 'telefone', 'localizacao'])\n",
        "  for _ in range(3000):\n",
        "    clientes = gerar_fake_cliente()\n",
        "    writer_cliente.writerow(clientes)\n",
        "\n",
        "print(\"Arquivo 'dados_cliente.csv' gerado com sucesso.\")\n"
      ],
      "metadata": {
        "id": "VSuT6Tre-Xx2"
      },
      "execution_count": null,
      "outputs": []
    },
    {
      "cell_type": "code",
      "source": [
        "with open('dados_produtos.csv','w',newline='') as csvfile_produto:\n",
        "  writer_produto = csv.writer(csvfile_produto)\n",
        "  writer_produto.writerow(['id_produto', 'tipo_produto', 'categoria_produto', 'tamanho_produto', 'preco_produto'])\n",
        "  for _ in range(500):\n",
        "    produtos = gerar_fake_produto()\n",
        "    writer_produto.writerow(produtos)\n",
        "\n",
        "print(\"Arquivo 'dados_produtos.csv' gerado com sucesso.\")\n"
      ],
      "metadata": {
        "id": "LDP0QLUauBdV"
      },
      "execution_count": null,
      "outputs": []
    },
    {
      "cell_type": "code",
      "source": [
        "with open('dados_vendas.csv','w',newline='') as csvfile_vendas:\n",
        "  writer_pedido = csv.writer(csvfile_vendas)\n",
        "  writer_pedido.writerow(['id_cliente', 'id_produto', 'quantidade_vendida', 'valor_venda'])\n",
        "  for _ in range(5000):\n",
        "    id_cliente_atual = fake.random_int(min=1, max=3000)\n",
        "    id_produto_atual = fake.random_int(min=1, max=500)\n",
        "    vendas = gerar_fake_venda(id_cliente_atual, id_produto_atual)\n",
        "    writer_pedido.writerow(vendas)\n",
        "\n",
        "print(\"Arquivo 'dados_vendas.csv' gerado com sucesso.\")\n"
      ],
      "metadata": {
        "id": "qWpCjx-x-E0f"
      },
      "execution_count": null,
      "outputs": []
    }
  ]
}